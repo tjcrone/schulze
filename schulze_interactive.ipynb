{
 "cells": [
  {
   "cell_type": "markdown",
   "id": "b07ebcc2-ed91-41d2-a831-30eb931a0876",
   "metadata": {},
   "source": [
    "# Schulze's Method of Voting\n",
    "This notebook implements Schulze's method of voting to combine a set of ranked lists into an overall ranked list. More information on this method and topic can be found at the following links:\n",
    "\n",
    " - https://arxiv.org/abs/1804.02973\n",
    " - https://en.wikipedia.org/wiki/Schulze_method\n",
    " - https://en.wikipedia.org/wiki/Comparison_of_electoral_systems"
   ]
  },
  {
   "cell_type": "code",
   "execution_count": 1,
   "id": "9b13f64d-54b9-4911-96c7-8ccad10e3cdb",
   "metadata": {
    "tags": []
   },
   "outputs": [],
   "source": [
    "import numpy as np\n",
    "import pandas as pd\n",
    "from ipydatagrid import DataGrid"
   ]
  },
  {
   "cell_type": "markdown",
   "id": "8c3509c8-cc5c-4fb7-9b19-8123dc116b50",
   "metadata": {},
   "source": [
    "## Interactive Data\n",
    "This version of the notebook allows you to edit your data in an interactive table. First, edit the names of voters and the number of candidates to create an empty editable table of votes, then edit the cells and continue from there."
   ]
  },
  {
   "cell_type": "code",
   "execution_count": 2,
   "id": "2b8e2e82-d213-4e08-8b52-5d4e26a5bcdf",
   "metadata": {},
   "outputs": [],
   "source": [
    "# first edit this cell\n",
    "voters = ['Tim', 'John', 'Cindy', 'Fabian']\n",
    "number_of_candidates = 7"
   ]
  },
  {
   "cell_type": "code",
   "execution_count": 3,
   "id": "d7c3e150-f683-4376-bca6-1d1260ce8546",
   "metadata": {},
   "outputs": [],
   "source": [
    "votes = pd.DataFrame(columns=voters, index=np.arange(1,number_of_candidates+1))\n",
    "votes.replace(np.nan, '', inplace=True)"
   ]
  },
  {
   "cell_type": "code",
   "execution_count": 4,
   "id": "1d44a475-3cfe-413a-925b-e0273c8eeb70",
   "metadata": {
    "tags": []
   },
   "outputs": [],
   "source": [
    "datagrid = DataGrid(votes, editable=True, index_name='rank', layout={'height': '200px'})"
   ]
  },
  {
   "cell_type": "code",
   "execution_count": 5,
   "id": "562fe183-3fcd-491c-964d-e115762fbd1a",
   "metadata": {
    "tags": []
   },
   "outputs": [
    {
     "data": {
      "application/vnd.jupyter.widget-view+json": {
       "model_id": "0195b30b81c6433cb46917ad0c2052ea",
       "version_major": 2,
       "version_minor": 0
      },
      "text/plain": [
       "DataGrid(auto_fit_params={'area': 'all', 'padding': 30, 'numCols': None}, corner_renderer=None, default_render…"
      ]
     },
     "execution_count": 5,
     "metadata": {},
     "output_type": "execute_result"
    }
   ],
   "source": [
    "# next edit this table\n",
    "datagrid"
   ]
  },
  {
   "cell_type": "code",
   "execution_count": 6,
   "id": "e14b3d2a-93f2-417e-926c-0e2a474be635",
   "metadata": {
    "tags": []
   },
   "outputs": [
    {
     "data": {
      "text/html": [
       "<div>\n",
       "<style scoped>\n",
       "    .dataframe tbody tr th:only-of-type {\n",
       "        vertical-align: middle;\n",
       "    }\n",
       "\n",
       "    .dataframe tbody tr th {\n",
       "        vertical-align: top;\n",
       "    }\n",
       "\n",
       "    .dataframe thead th {\n",
       "        text-align: right;\n",
       "    }\n",
       "</style>\n",
       "<table border=\"1\" class=\"dataframe\">\n",
       "  <thead>\n",
       "    <tr style=\"text-align: right;\">\n",
       "      <th></th>\n",
       "      <th>Tim</th>\n",
       "      <th>John</th>\n",
       "      <th>Cindy</th>\n",
       "      <th>Fabian</th>\n",
       "    </tr>\n",
       "    <tr>\n",
       "      <th>rank</th>\n",
       "      <th></th>\n",
       "      <th></th>\n",
       "      <th></th>\n",
       "      <th></th>\n",
       "    </tr>\n",
       "  </thead>\n",
       "  <tbody>\n",
       "    <tr>\n",
       "      <th>1</th>\n",
       "      <td></td>\n",
       "      <td></td>\n",
       "      <td></td>\n",
       "      <td></td>\n",
       "    </tr>\n",
       "    <tr>\n",
       "      <th>2</th>\n",
       "      <td></td>\n",
       "      <td></td>\n",
       "      <td></td>\n",
       "      <td></td>\n",
       "    </tr>\n",
       "    <tr>\n",
       "      <th>3</th>\n",
       "      <td></td>\n",
       "      <td></td>\n",
       "      <td></td>\n",
       "      <td></td>\n",
       "    </tr>\n",
       "    <tr>\n",
       "      <th>4</th>\n",
       "      <td></td>\n",
       "      <td></td>\n",
       "      <td></td>\n",
       "      <td></td>\n",
       "    </tr>\n",
       "    <tr>\n",
       "      <th>5</th>\n",
       "      <td></td>\n",
       "      <td></td>\n",
       "      <td></td>\n",
       "      <td></td>\n",
       "    </tr>\n",
       "    <tr>\n",
       "      <th>6</th>\n",
       "      <td></td>\n",
       "      <td></td>\n",
       "      <td></td>\n",
       "      <td></td>\n",
       "    </tr>\n",
       "    <tr>\n",
       "      <th>7</th>\n",
       "      <td></td>\n",
       "      <td></td>\n",
       "      <td></td>\n",
       "      <td></td>\n",
       "    </tr>\n",
       "  </tbody>\n",
       "</table>\n",
       "</div>"
      ],
      "text/plain": [
       "     Tim John Cindy Fabian\n",
       "rank                      \n",
       "1                         \n",
       "2                         \n",
       "3                         \n",
       "4                         \n",
       "5                         \n",
       "6                         \n",
       "7                         "
      ]
     },
     "execution_count": 6,
     "metadata": {},
     "output_type": "execute_result"
    }
   ],
   "source": [
    "votes = datagrid.data\n",
    "votes"
   ]
  },
  {
   "cell_type": "code",
   "execution_count": 7,
   "id": "b472e44e-093e-465f-9cf6-dbee026bf2f1",
   "metadata": {
    "tags": []
   },
   "outputs": [
    {
     "data": {
      "text/plain": [
       "array([''], dtype=object)"
      ]
     },
     "execution_count": 7,
     "metadata": {},
     "output_type": "execute_result"
    }
   ],
   "source": [
    "candidates = np.unique(votes.values.reshape(votes.shape[0]*votes.shape[1]))\n",
    "candidates"
   ]
  },
  {
   "cell_type": "markdown",
   "id": "8e27c46a-2a04-4619-bed7-e660b46fd540",
   "metadata": {},
   "source": [
    "## Preference Matrix\n",
    "The matrix of pair-wise preferences indicates the number of ballots that have candidate A over candidate B for each set of candidates."
   ]
  },
  {
   "cell_type": "code",
   "execution_count": 8,
   "id": "ecf059ff-61bf-41bc-85b9-084f613be2de",
   "metadata": {
    "tags": []
   },
   "outputs": [],
   "source": [
    "def get_pref_count(votes, candidate_a, candidate_b):\n",
    "    count = 0\n",
    "    for i in range(votes.shape[1]):\n",
    "        try:\n",
    "            apos = votes.iloc[:,i][votes.iloc[:,i]==candidate_a].index.values[0]\n",
    "        except:\n",
    "            apos = None\n",
    "        try:\n",
    "            bpos = votes.iloc[:,i][votes.iloc[:,i]==candidate_b].index.values[0]\n",
    "        except:\n",
    "            bpos = None\n",
    "            \n",
    "        if apos == None:\n",
    "            continue\n",
    "        if bpos == None:\n",
    "            if apos != None:\n",
    "                count += 1\n",
    "                continue\n",
    "        if apos < bpos:\n",
    "            count +=1\n",
    "    return count"
   ]
  },
  {
   "cell_type": "code",
   "execution_count": 9,
   "id": "5dc4d69b-8157-4849-a77d-f32e444bd1a7",
   "metadata": {
    "tags": []
   },
   "outputs": [],
   "source": [
    "def get_pref_matrix(votes):\n",
    "    candidates = np.unique(votes.values.reshape(votes.shape[0]*votes.shape[1]))\n",
    "    pref_vals = np.zeros([len(candidates), len(candidates)], dtype=np.int64)\n",
    "    i = 0\n",
    "    j = 0\n",
    "    for candidate_a in candidates:\n",
    "        for candidate_b in candidates:\n",
    "            pref_vals[i,j] = get_pref_count(votes, candidate_a, candidate_b)\n",
    "            j += 1\n",
    "        i += 1\n",
    "        j = 0\n",
    "    return pd.DataFrame(pref_vals, columns=candidates, index=pd.Index(candidates))"
   ]
  },
  {
   "cell_type": "code",
   "execution_count": 10,
   "id": "ebc83ef7-de9a-44a2-bdb0-3063e3312ff6",
   "metadata": {
    "tags": []
   },
   "outputs": [
    {
     "data": {
      "text/html": [
       "<div>\n",
       "<style scoped>\n",
       "    .dataframe tbody tr th:only-of-type {\n",
       "        vertical-align: middle;\n",
       "    }\n",
       "\n",
       "    .dataframe tbody tr th {\n",
       "        vertical-align: top;\n",
       "    }\n",
       "\n",
       "    .dataframe thead th {\n",
       "        text-align: right;\n",
       "    }\n",
       "</style>\n",
       "<table border=\"1\" class=\"dataframe\">\n",
       "  <thead>\n",
       "    <tr style=\"text-align: right;\">\n",
       "      <th></th>\n",
       "      <th></th>\n",
       "    </tr>\n",
       "  </thead>\n",
       "  <tbody>\n",
       "    <tr>\n",
       "      <th></th>\n",
       "      <td>0</td>\n",
       "    </tr>\n",
       "  </tbody>\n",
       "</table>\n",
       "</div>"
      ],
      "text/plain": [
       "   \n",
       "  0"
      ]
     },
     "execution_count": 10,
     "metadata": {},
     "output_type": "execute_result"
    }
   ],
   "source": [
    "pref_matrix = get_pref_matrix(votes)\n",
    "pref_matrix"
   ]
  },
  {
   "cell_type": "markdown",
   "id": "3d830348-0bbc-409d-ba5a-aa8a2771f275",
   "metadata": {},
   "source": [
    "## Path Strengths\n",
    "The \"path strengths\" are the weakest link of the strongest path between each candidate, in the directed graph of pairwise preferences that can be generated from the preference matrix. For a relatively simple explanation of this, see https://en.wikipedia.org/wiki/Schulze_method."
   ]
  },
  {
   "cell_type": "code",
   "execution_count": 11,
   "id": "1d11b330-f158-4198-8e9f-c55b579627a9",
   "metadata": {
    "tags": []
   },
   "outputs": [],
   "source": [
    "def get_path_strengths(pref_matrix):\n",
    "    pref_vals = pref_matrix.values\n",
    "    candidates = pref_matrix.columns.values\n",
    "    \n",
    "    p = pref_vals * 0\n",
    "    for i in range(len(candidates)):\n",
    "        for j in range(len(candidates)):\n",
    "            if pref_vals[i,j] > pref_vals[j,i]:\n",
    "                p[i,j] = pref_vals[i,j]\n",
    "\n",
    "    for i in range(len(candidates)):\n",
    "        for j in range(len(candidates)):\n",
    "            if i != j:\n",
    "                for k in range(len(candidates)):\n",
    "                    if i != j and j != k:\n",
    "                        p[j,k] = np.max([p[j,k], min([p[j,i], p[i,k]])])\n",
    "                        \n",
    "    return pd.DataFrame(p, columns=candidates, index=pd.Index(candidates))"
   ]
  },
  {
   "cell_type": "code",
   "execution_count": 12,
   "id": "1a9095cc-c803-4474-9a84-1b1f090d0e54",
   "metadata": {
    "tags": []
   },
   "outputs": [
    {
     "data": {
      "text/html": [
       "<div>\n",
       "<style scoped>\n",
       "    .dataframe tbody tr th:only-of-type {\n",
       "        vertical-align: middle;\n",
       "    }\n",
       "\n",
       "    .dataframe tbody tr th {\n",
       "        vertical-align: top;\n",
       "    }\n",
       "\n",
       "    .dataframe thead th {\n",
       "        text-align: right;\n",
       "    }\n",
       "</style>\n",
       "<table border=\"1\" class=\"dataframe\">\n",
       "  <thead>\n",
       "    <tr style=\"text-align: right;\">\n",
       "      <th></th>\n",
       "      <th></th>\n",
       "    </tr>\n",
       "  </thead>\n",
       "  <tbody>\n",
       "    <tr>\n",
       "      <th></th>\n",
       "      <td>0</td>\n",
       "    </tr>\n",
       "  </tbody>\n",
       "</table>\n",
       "</div>"
      ],
      "text/plain": [
       "   \n",
       "  0"
      ]
     },
     "execution_count": 12,
     "metadata": {},
     "output_type": "execute_result"
    }
   ],
   "source": [
    "path_strengths = get_path_strengths(pref_matrix)\n",
    "path_strengths"
   ]
  },
  {
   "cell_type": "markdown",
   "id": "3d02cdce-dfd9-4a6e-9409-653166d81569",
   "metadata": {},
   "source": [
    "## Schulze Winner Matrix\n",
    "The winner matrix indicates which candidates are preferred over the others, based on the matriix of path strengths."
   ]
  },
  {
   "cell_type": "code",
   "execution_count": 13,
   "id": "9abfcf2f-43cf-445a-ac42-9b0432e05ad7",
   "metadata": {
    "tags": []
   },
   "outputs": [],
   "source": [
    "def get_winner_matrix(path_strengths):\n",
    "    p = path_strengths.values\n",
    "    winner = p * 0\n",
    "    for i in range(len(candidates)):\n",
    "        for j in range(len(candidates)):\n",
    "            if i != j:\n",
    "                if p[i,j] > p[j,i]:\n",
    "                    winner[i,j] = 1\n",
    "    return pd.DataFrame(winner, columns=candidates, index=pd.Index(candidates))"
   ]
  },
  {
   "cell_type": "code",
   "execution_count": 14,
   "id": "b9bc9af5-50bd-495f-869f-2c584bb62a22",
   "metadata": {
    "tags": []
   },
   "outputs": [
    {
     "data": {
      "text/html": [
       "<div>\n",
       "<style scoped>\n",
       "    .dataframe tbody tr th:only-of-type {\n",
       "        vertical-align: middle;\n",
       "    }\n",
       "\n",
       "    .dataframe tbody tr th {\n",
       "        vertical-align: top;\n",
       "    }\n",
       "\n",
       "    .dataframe thead th {\n",
       "        text-align: right;\n",
       "    }\n",
       "</style>\n",
       "<table border=\"1\" class=\"dataframe\">\n",
       "  <thead>\n",
       "    <tr style=\"text-align: right;\">\n",
       "      <th></th>\n",
       "      <th></th>\n",
       "    </tr>\n",
       "  </thead>\n",
       "  <tbody>\n",
       "    <tr>\n",
       "      <th></th>\n",
       "      <td>0</td>\n",
       "    </tr>\n",
       "  </tbody>\n",
       "</table>\n",
       "</div>"
      ],
      "text/plain": [
       "   \n",
       "  0"
      ]
     },
     "execution_count": 14,
     "metadata": {},
     "output_type": "execute_result"
    }
   ],
   "source": [
    "winner_matrix = get_winner_matrix(path_strengths)\n",
    "winner_matrix"
   ]
  },
  {
   "cell_type": "markdown",
   "id": "192920d1-8151-4346-a7bd-42f8761868bb",
   "metadata": {},
   "source": [
    "## Overall Schulze Ranking\n",
    "Sorting the sum of the winner matrix in the horizontal-direction provides the overall ranking of candidates. In this example, using the Test4 data, Bill and Sandy are tied for last place, which is an interesting outcome. There are no other ambiguities in the results in this example."
   ]
  },
  {
   "cell_type": "code",
   "execution_count": 15,
   "id": "bdcd6558-8e9d-4eb4-b28b-d53fb6d310d9",
   "metadata": {
    "tags": []
   },
   "outputs": [
    {
     "data": {
      "text/plain": [
       "    0\n",
       "dtype: int64"
      ]
     },
     "execution_count": 15,
     "metadata": {},
     "output_type": "execute_result"
    }
   ],
   "source": [
    "final_ranking = pd.Series(np.sum(winner_matrix.values, axis=1), index=candidates).sort_values(ascending=False)\n",
    "final_ranking"
   ]
  }
 ],
 "metadata": {
  "kernelspec": {
   "display_name": "Python 3 (ipykernel)",
   "language": "python",
   "name": "python3"
  },
  "language_info": {
   "codemirror_mode": {
    "name": "ipython",
    "version": 3
   },
   "file_extension": ".py",
   "mimetype": "text/x-python",
   "name": "python",
   "nbconvert_exporter": "python",
   "pygments_lexer": "ipython3",
   "version": "3.8.16"
  }
 },
 "nbformat": 4,
 "nbformat_minor": 5
}
