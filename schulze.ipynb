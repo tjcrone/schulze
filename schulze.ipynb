{
 "cells": [
  {
   "cell_type": "markdown",
   "id": "b07ebcc2-ed91-41d2-a831-30eb931a0876",
   "metadata": {},
   "source": [
    "# Schulze's Method of Voting\n",
    "This notebook implements Schulze's method of voting to combine a set of ranked lists into an overall ranked list."
   ]
  },
  {
   "cell_type": "code",
   "execution_count": 1,
   "id": "9b13f64d-54b9-4911-96c7-8ccad10e3cdb",
   "metadata": {},
   "outputs": [],
   "source": [
    "import numpy as np\n",
    "import pandas as pd"
   ]
  },
  {
   "cell_type": "markdown",
   "id": "beb40093-37f7-4763-ae0a-5d09e3f743fa",
   "metadata": {},
   "source": [
    "## Test Data\n",
    "Test data from a [Google sheet](https://docs.google.com/spreadsheets/d/1NUoOme-YQHA8cfnbPjtHBt13bkZPQkQei3cPAQ611I8/edit?usp=sharing) which has all of its tabs published as CSV files. Some of these data have the names of voters in the first row, and others have the number of matching ballots, hence the two different methods for importing votes."
   ]
  },
  {
   "cell_type": "code",
   "execution_count": 2,
   "id": "75cb5a0c-e68e-4d28-a4ab-ee627ea76974",
   "metadata": {},
   "outputs": [],
   "source": [
    "test1 = 'https://docs.google.com/spreadsheets/d/e/2PACX-1vRGPvxWcqyo86JDfGhCn9laHlLHUrMEb8jAqdBFNN_uimR95VxE9JCPpBxr4WWaeLeAPuLHCzGDbQ8y/pub?gid=1591363425&single=true&output=csv'\n",
    "test2 = 'https://docs.google.com/spreadsheets/d/e/2PACX-1vRGPvxWcqyo86JDfGhCn9laHlLHUrMEb8jAqdBFNN_uimR95VxE9JCPpBxr4WWaeLeAPuLHCzGDbQ8y/pub?gid=541601874&single=true&output=csv'\n",
    "test3 = 'https://docs.google.com/spreadsheets/d/e/2PACX-1vRGPvxWcqyo86JDfGhCn9laHlLHUrMEb8jAqdBFNN_uimR95VxE9JCPpBxr4WWaeLeAPuLHCzGDbQ8y/pub?gid=2108916501&single=true&output=csv'\n",
    "test4 = 'https://docs.google.com/spreadsheets/d/e/2PACX-1vRGPvxWcqyo86JDfGhCn9laHlLHUrMEb8jAqdBFNN_uimR95VxE9JCPpBxr4WWaeLeAPuLHCzGDbQ8y/pub?gid=662509174&single=true&output=csv'\n",
    "example1 = 'https://docs.google.com/spreadsheets/d/e/2PACX-1vRGPvxWcqyo86JDfGhCn9laHlLHUrMEb8jAqdBFNN_uimR95VxE9JCPpBxr4WWaeLeAPuLHCzGDbQ8y/pub?gid=721130038&single=true&output=csv'\n",
    "example2 = 'https://docs.google.com/spreadsheets/d/e/2PACX-1vRGPvxWcqyo86JDfGhCn9laHlLHUrMEb8jAqdBFNN_uimR95VxE9JCPpBxr4WWaeLeAPuLHCzGDbQ8y/pub?gid=1181234950&single=true&output=csv'\n",
    "example3 = 'https://docs.google.com/spreadsheets/d/e/2PACX-1vRGPvxWcqyo86JDfGhCn9laHlLHUrMEb8jAqdBFNN_uimR95VxE9JCPpBxr4WWaeLeAPuLHCzGDbQ8y/pub?gid=1865810740&single=true&output=csv'\n",
    "example4 = 'https://docs.google.com/spreadsheets/d/e/2PACX-1vRGPvxWcqyo86JDfGhCn9laHlLHUrMEb8jAqdBFNN_uimR95VxE9JCPpBxr4WWaeLeAPuLHCzGDbQ8y/pub?gid=920600198&single=true&output=csv'\n",
    "example6 = 'https://docs.google.com/spreadsheets/d/e/2PACX-1vRGPvxWcqyo86JDfGhCn9laHlLHUrMEb8jAqdBFNN_uimR95VxE9JCPpBxr4WWaeLeAPuLHCzGDbQ8y/pub?gid=753260081&single=true&output=csv'\n",
    "example7 = 'https://docs.google.com/spreadsheets/d/e/2PACX-1vRGPvxWcqyo86JDfGhCn9laHlLHUrMEb8jAqdBFNN_uimR95VxE9JCPpBxr4WWaeLeAPuLHCzGDbQ8y/pub?gid=959087225&single=true&output=csv'"
   ]
  },
  {
   "cell_type": "code",
   "execution_count": 3,
   "id": "0f6a1270-a5ea-407e-832e-fcd6c9363741",
   "metadata": {},
   "outputs": [],
   "source": [
    "def import_votes(url, first_row='voters'):\n",
    "    if first_row=='voters':\n",
    "        votes = pd.read_csv(url)\n",
    "        #votes.columns = [(f'B{n:02d}') for n in range(votes.shape[1])]\n",
    "    elif first_row=='count':\n",
    "        vote_counts = pd.read_csv(url, header=None)\n",
    "        votes = np.tile(vote_counts.iloc[1:,0].values, [np.int64(vote_counts.iloc[0,0]),1])\n",
    "        if vote_counts.shape[1]>1:\n",
    "            for i in np.arange(1,vote_counts.shape[1]):\n",
    "                votes = np.append(votes, np.tile(vote_counts.iloc[1:,i].values, [np.int64(vote_counts.iloc[0,i]),1]), axis=0)\n",
    "        votes = pd.DataFrame(votes.T)\n",
    "    else:\n",
    "        raise ValueError('Pass voters or count as first_row.')\n",
    "    return votes"
   ]
  },
  {
   "cell_type": "code",
   "execution_count": 4,
   "id": "d2bfb8c4-d8cd-4f55-9494-1ca9b213f2c1",
   "metadata": {},
   "outputs": [
    {
     "data": {
      "text/html": [
       "<div>\n",
       "<style scoped>\n",
       "    .dataframe tbody tr th:only-of-type {\n",
       "        vertical-align: middle;\n",
       "    }\n",
       "\n",
       "    .dataframe tbody tr th {\n",
       "        vertical-align: top;\n",
       "    }\n",
       "\n",
       "    .dataframe thead th {\n",
       "        text-align: right;\n",
       "    }\n",
       "</style>\n",
       "<table border=\"1\" class=\"dataframe\">\n",
       "  <thead>\n",
       "    <tr style=\"text-align: right;\">\n",
       "      <th></th>\n",
       "      <th>Tim</th>\n",
       "      <th>John</th>\n",
       "      <th>Cindy</th>\n",
       "      <th>Fabian</th>\n",
       "    </tr>\n",
       "  </thead>\n",
       "  <tbody>\n",
       "    <tr>\n",
       "      <th>0</th>\n",
       "      <td>Jenny</td>\n",
       "      <td>Jenny</td>\n",
       "      <td>Jenny</td>\n",
       "      <td>Bill</td>\n",
       "    </tr>\n",
       "    <tr>\n",
       "      <th>1</th>\n",
       "      <td>Betty</td>\n",
       "      <td>Betty</td>\n",
       "      <td>Betty</td>\n",
       "      <td>Kim</td>\n",
       "    </tr>\n",
       "    <tr>\n",
       "      <th>2</th>\n",
       "      <td>Kim</td>\n",
       "      <td>Kim</td>\n",
       "      <td>Kim</td>\n",
       "      <td>Darlene</td>\n",
       "    </tr>\n",
       "    <tr>\n",
       "      <th>3</th>\n",
       "      <td>Darlene</td>\n",
       "      <td>Darlene</td>\n",
       "      <td>Sandy</td>\n",
       "      <td>Sandy</td>\n",
       "    </tr>\n",
       "  </tbody>\n",
       "</table>\n",
       "</div>"
      ],
      "text/plain": [
       "       Tim     John  Cindy   Fabian\n",
       "0    Jenny    Jenny  Jenny     Bill\n",
       "1    Betty    Betty  Betty      Kim\n",
       "2      Kim      Kim    Kim  Darlene\n",
       "3  Darlene  Darlene  Sandy    Sandy"
      ]
     },
     "execution_count": 4,
     "metadata": {},
     "output_type": "execute_result"
    }
   ],
   "source": [
    "votes = import_votes(test4, first_row='voters')\n",
    "votes"
   ]
  },
  {
   "cell_type": "code",
   "execution_count": 5,
   "id": "5533b250-6ab1-475a-b339-28fb151e457e",
   "metadata": {},
   "outputs": [
    {
     "data": {
      "text/plain": [
       "array(['Betty', 'Bill', 'Darlene', 'Jenny', 'Kim', 'Sandy'], dtype=object)"
      ]
     },
     "execution_count": 5,
     "metadata": {},
     "output_type": "execute_result"
    }
   ],
   "source": [
    "candidates = np.unique(votes.values.reshape(votes.shape[0]*votes.shape[1]))\n",
    "candidates"
   ]
  },
  {
   "cell_type": "code",
   "execution_count": 6,
   "id": "9f91b94d-61b9-4b16-8dc7-5d2e0fa11aee",
   "metadata": {},
   "outputs": [
    {
     "data": {
      "text/plain": [
       "6"
      ]
     },
     "execution_count": 6,
     "metadata": {},
     "output_type": "execute_result"
    }
   ],
   "source": [
    "len(candidates)"
   ]
  },
  {
   "cell_type": "markdown",
   "id": "8e27c46a-2a04-4619-bed7-e660b46fd540",
   "metadata": {},
   "source": [
    "## Preference Matrix\n",
    "The preference matrix is the number of ballots that have candidate A over candidate B."
   ]
  },
  {
   "cell_type": "code",
   "execution_count": 7,
   "id": "ecf059ff-61bf-41bc-85b9-084f613be2de",
   "metadata": {},
   "outputs": [],
   "source": [
    "def get_pref_count(votes, candidate_a, candidate_b):\n",
    "    count = 0\n",
    "    for i in range(votes.shape[1]):\n",
    "        try:\n",
    "            apos = votes.iloc[:,i][votes.iloc[:,i]==candidate_a].index.values[0]\n",
    "        except:\n",
    "            apos = None\n",
    "        try:\n",
    "            bpos = votes.iloc[:,i][votes.iloc[:,i]==candidate_b].index.values[0]\n",
    "        except:\n",
    "            bpos = None\n",
    "            \n",
    "        if apos == None:\n",
    "            continue\n",
    "        if bpos == None:\n",
    "            if apos != None:\n",
    "                count += 1\n",
    "                continue\n",
    "        if apos < bpos:\n",
    "            count +=1\n",
    "    return count"
   ]
  },
  {
   "cell_type": "code",
   "execution_count": 8,
   "id": "5dc4d69b-8157-4849-a77d-f32e444bd1a7",
   "metadata": {},
   "outputs": [],
   "source": [
    "def get_pref_matrix(votes):\n",
    "    candidates = np.unique(votes.values.reshape(votes.shape[0]*votes.shape[1]))\n",
    "    pref_vals = np.zeros([len(candidates), len(candidates)], dtype=np.int64)\n",
    "    i = 0\n",
    "    j = 0\n",
    "    for candidate_a in candidates:\n",
    "        for candidate_b in candidates:\n",
    "            pref_vals[i,j] = get_pref_count(votes, candidate_a, candidate_b)\n",
    "            j += 1\n",
    "        i += 1\n",
    "        j = 0\n",
    "    return pd.DataFrame(pref_vals, columns=candidates, index=pd.Index(candidates))"
   ]
  },
  {
   "cell_type": "code",
   "execution_count": 9,
   "id": "ebc83ef7-de9a-44a2-bdb0-3063e3312ff6",
   "metadata": {},
   "outputs": [
    {
     "data": {
      "text/html": [
       "<div>\n",
       "<style scoped>\n",
       "    .dataframe tbody tr th:only-of-type {\n",
       "        vertical-align: middle;\n",
       "    }\n",
       "\n",
       "    .dataframe tbody tr th {\n",
       "        vertical-align: top;\n",
       "    }\n",
       "\n",
       "    .dataframe thead th {\n",
       "        text-align: right;\n",
       "    }\n",
       "</style>\n",
       "<table border=\"1\" class=\"dataframe\">\n",
       "  <thead>\n",
       "    <tr style=\"text-align: right;\">\n",
       "      <th></th>\n",
       "      <th>Betty</th>\n",
       "      <th>Bill</th>\n",
       "      <th>Darlene</th>\n",
       "      <th>Jenny</th>\n",
       "      <th>Kim</th>\n",
       "      <th>Sandy</th>\n",
       "    </tr>\n",
       "  </thead>\n",
       "  <tbody>\n",
       "    <tr>\n",
       "      <th>Betty</th>\n",
       "      <td>0</td>\n",
       "      <td>3</td>\n",
       "      <td>3</td>\n",
       "      <td>0</td>\n",
       "      <td>3</td>\n",
       "      <td>3</td>\n",
       "    </tr>\n",
       "    <tr>\n",
       "      <th>Bill</th>\n",
       "      <td>1</td>\n",
       "      <td>0</td>\n",
       "      <td>1</td>\n",
       "      <td>1</td>\n",
       "      <td>1</td>\n",
       "      <td>1</td>\n",
       "    </tr>\n",
       "    <tr>\n",
       "      <th>Darlene</th>\n",
       "      <td>1</td>\n",
       "      <td>2</td>\n",
       "      <td>0</td>\n",
       "      <td>1</td>\n",
       "      <td>0</td>\n",
       "      <td>3</td>\n",
       "    </tr>\n",
       "    <tr>\n",
       "      <th>Jenny</th>\n",
       "      <td>3</td>\n",
       "      <td>3</td>\n",
       "      <td>3</td>\n",
       "      <td>0</td>\n",
       "      <td>3</td>\n",
       "      <td>3</td>\n",
       "    </tr>\n",
       "    <tr>\n",
       "      <th>Kim</th>\n",
       "      <td>1</td>\n",
       "      <td>3</td>\n",
       "      <td>4</td>\n",
       "      <td>1</td>\n",
       "      <td>0</td>\n",
       "      <td>4</td>\n",
       "    </tr>\n",
       "    <tr>\n",
       "      <th>Sandy</th>\n",
       "      <td>1</td>\n",
       "      <td>1</td>\n",
       "      <td>1</td>\n",
       "      <td>1</td>\n",
       "      <td>0</td>\n",
       "      <td>0</td>\n",
       "    </tr>\n",
       "  </tbody>\n",
       "</table>\n",
       "</div>"
      ],
      "text/plain": [
       "         Betty  Bill  Darlene  Jenny  Kim  Sandy\n",
       "Betty        0     3        3      0    3      3\n",
       "Bill         1     0        1      1    1      1\n",
       "Darlene      1     2        0      1    0      3\n",
       "Jenny        3     3        3      0    3      3\n",
       "Kim          1     3        4      1    0      4\n",
       "Sandy        1     1        1      1    0      0"
      ]
     },
     "execution_count": 9,
     "metadata": {},
     "output_type": "execute_result"
    }
   ],
   "source": [
    "pref_matrix = get_pref_matrix(votes)\n",
    "pref_matrix"
   ]
  },
  {
   "cell_type": "markdown",
   "id": "3d830348-0bbc-409d-ba5a-aa8a2771f275",
   "metadata": {},
   "source": [
    "## Path Strengths"
   ]
  },
  {
   "cell_type": "code",
   "execution_count": 10,
   "id": "1d11b330-f158-4198-8e9f-c55b579627a9",
   "metadata": {},
   "outputs": [],
   "source": [
    "def get_path_strengths(pref_matrix):\n",
    "    pref_vals = pref_matrix.values\n",
    "    candidates = pref_matrix.columns.values\n",
    "    \n",
    "    p = pref_vals * 0\n",
    "    for i in range(len(candidates)):\n",
    "        for j in range(len(candidates)):\n",
    "            if pref_vals[i,j] > pref_vals[j,i]:\n",
    "                p[i,j] = pref_vals[i,j]\n",
    "\n",
    "    for i in range(len(candidates)):\n",
    "        for j in range(len(candidates)):\n",
    "            if i != j:\n",
    "                for k in range(len(candidates)):\n",
    "                    if i != j and j != k:\n",
    "                        p[j,k] = np.max([p[j,k], min([p[j,i], p[i,k]])])\n",
    "                        \n",
    "    return pd.DataFrame(p, columns=candidates, index=pd.Index(candidates))"
   ]
  },
  {
   "cell_type": "code",
   "execution_count": 11,
   "id": "1a9095cc-c803-4474-9a84-1b1f090d0e54",
   "metadata": {},
   "outputs": [
    {
     "data": {
      "text/html": [
       "<div>\n",
       "<style scoped>\n",
       "    .dataframe tbody tr th:only-of-type {\n",
       "        vertical-align: middle;\n",
       "    }\n",
       "\n",
       "    .dataframe tbody tr th {\n",
       "        vertical-align: top;\n",
       "    }\n",
       "\n",
       "    .dataframe thead th {\n",
       "        text-align: right;\n",
       "    }\n",
       "</style>\n",
       "<table border=\"1\" class=\"dataframe\">\n",
       "  <thead>\n",
       "    <tr style=\"text-align: right;\">\n",
       "      <th></th>\n",
       "      <th>Betty</th>\n",
       "      <th>Bill</th>\n",
       "      <th>Darlene</th>\n",
       "      <th>Jenny</th>\n",
       "      <th>Kim</th>\n",
       "      <th>Sandy</th>\n",
       "    </tr>\n",
       "  </thead>\n",
       "  <tbody>\n",
       "    <tr>\n",
       "      <th>Betty</th>\n",
       "      <td>0</td>\n",
       "      <td>3</td>\n",
       "      <td>3</td>\n",
       "      <td>0</td>\n",
       "      <td>3</td>\n",
       "      <td>3</td>\n",
       "    </tr>\n",
       "    <tr>\n",
       "      <th>Bill</th>\n",
       "      <td>0</td>\n",
       "      <td>0</td>\n",
       "      <td>0</td>\n",
       "      <td>0</td>\n",
       "      <td>0</td>\n",
       "      <td>0</td>\n",
       "    </tr>\n",
       "    <tr>\n",
       "      <th>Darlene</th>\n",
       "      <td>0</td>\n",
       "      <td>2</td>\n",
       "      <td>0</td>\n",
       "      <td>0</td>\n",
       "      <td>0</td>\n",
       "      <td>3</td>\n",
       "    </tr>\n",
       "    <tr>\n",
       "      <th>Jenny</th>\n",
       "      <td>3</td>\n",
       "      <td>3</td>\n",
       "      <td>3</td>\n",
       "      <td>0</td>\n",
       "      <td>3</td>\n",
       "      <td>3</td>\n",
       "    </tr>\n",
       "    <tr>\n",
       "      <th>Kim</th>\n",
       "      <td>0</td>\n",
       "      <td>3</td>\n",
       "      <td>4</td>\n",
       "      <td>0</td>\n",
       "      <td>0</td>\n",
       "      <td>4</td>\n",
       "    </tr>\n",
       "    <tr>\n",
       "      <th>Sandy</th>\n",
       "      <td>0</td>\n",
       "      <td>0</td>\n",
       "      <td>0</td>\n",
       "      <td>0</td>\n",
       "      <td>0</td>\n",
       "      <td>0</td>\n",
       "    </tr>\n",
       "  </tbody>\n",
       "</table>\n",
       "</div>"
      ],
      "text/plain": [
       "         Betty  Bill  Darlene  Jenny  Kim  Sandy\n",
       "Betty        0     3        3      0    3      3\n",
       "Bill         0     0        0      0    0      0\n",
       "Darlene      0     2        0      0    0      3\n",
       "Jenny        3     3        3      0    3      3\n",
       "Kim          0     3        4      0    0      4\n",
       "Sandy        0     0        0      0    0      0"
      ]
     },
     "execution_count": 11,
     "metadata": {},
     "output_type": "execute_result"
    }
   ],
   "source": [
    "path_strengths = get_path_strengths(pref_matrix)\n",
    "path_strengths"
   ]
  },
  {
   "cell_type": "markdown",
   "id": "3d02cdce-dfd9-4a6e-9409-653166d81569",
   "metadata": {},
   "source": [
    "## Schulze Winner Matrix\n",
    "The winner matrix indicates which candidates are preferred over the others, based on the path strengths."
   ]
  },
  {
   "cell_type": "code",
   "execution_count": 12,
   "id": "9abfcf2f-43cf-445a-ac42-9b0432e05ad7",
   "metadata": {},
   "outputs": [],
   "source": [
    "def get_winner_matrix(path_strengths):\n",
    "    p = path_strengths.values\n",
    "    winner = p * 0\n",
    "    for i in range(len(candidates)):\n",
    "        for j in range(len(candidates)):\n",
    "            if i != j:\n",
    "                if p[i,j] > p[j,i]:\n",
    "                    winner[i,j] = 1\n",
    "    return pd.DataFrame(winner, columns=candidates, index=pd.Index(candidates))"
   ]
  },
  {
   "cell_type": "code",
   "execution_count": 13,
   "id": "b9bc9af5-50bd-495f-869f-2c584bb62a22",
   "metadata": {},
   "outputs": [
    {
     "data": {
      "text/html": [
       "<div>\n",
       "<style scoped>\n",
       "    .dataframe tbody tr th:only-of-type {\n",
       "        vertical-align: middle;\n",
       "    }\n",
       "\n",
       "    .dataframe tbody tr th {\n",
       "        vertical-align: top;\n",
       "    }\n",
       "\n",
       "    .dataframe thead th {\n",
       "        text-align: right;\n",
       "    }\n",
       "</style>\n",
       "<table border=\"1\" class=\"dataframe\">\n",
       "  <thead>\n",
       "    <tr style=\"text-align: right;\">\n",
       "      <th></th>\n",
       "      <th>Betty</th>\n",
       "      <th>Bill</th>\n",
       "      <th>Darlene</th>\n",
       "      <th>Jenny</th>\n",
       "      <th>Kim</th>\n",
       "      <th>Sandy</th>\n",
       "    </tr>\n",
       "  </thead>\n",
       "  <tbody>\n",
       "    <tr>\n",
       "      <th>Betty</th>\n",
       "      <td>0</td>\n",
       "      <td>1</td>\n",
       "      <td>1</td>\n",
       "      <td>0</td>\n",
       "      <td>1</td>\n",
       "      <td>1</td>\n",
       "    </tr>\n",
       "    <tr>\n",
       "      <th>Bill</th>\n",
       "      <td>0</td>\n",
       "      <td>0</td>\n",
       "      <td>0</td>\n",
       "      <td>0</td>\n",
       "      <td>0</td>\n",
       "      <td>0</td>\n",
       "    </tr>\n",
       "    <tr>\n",
       "      <th>Darlene</th>\n",
       "      <td>0</td>\n",
       "      <td>1</td>\n",
       "      <td>0</td>\n",
       "      <td>0</td>\n",
       "      <td>0</td>\n",
       "      <td>1</td>\n",
       "    </tr>\n",
       "    <tr>\n",
       "      <th>Jenny</th>\n",
       "      <td>1</td>\n",
       "      <td>1</td>\n",
       "      <td>1</td>\n",
       "      <td>0</td>\n",
       "      <td>1</td>\n",
       "      <td>1</td>\n",
       "    </tr>\n",
       "    <tr>\n",
       "      <th>Kim</th>\n",
       "      <td>0</td>\n",
       "      <td>1</td>\n",
       "      <td>1</td>\n",
       "      <td>0</td>\n",
       "      <td>0</td>\n",
       "      <td>1</td>\n",
       "    </tr>\n",
       "    <tr>\n",
       "      <th>Sandy</th>\n",
       "      <td>0</td>\n",
       "      <td>0</td>\n",
       "      <td>0</td>\n",
       "      <td>0</td>\n",
       "      <td>0</td>\n",
       "      <td>0</td>\n",
       "    </tr>\n",
       "  </tbody>\n",
       "</table>\n",
       "</div>"
      ],
      "text/plain": [
       "         Betty  Bill  Darlene  Jenny  Kim  Sandy\n",
       "Betty        0     1        1      0    1      1\n",
       "Bill         0     0        0      0    0      0\n",
       "Darlene      0     1        0      0    0      1\n",
       "Jenny        1     1        1      0    1      1\n",
       "Kim          0     1        1      0    0      1\n",
       "Sandy        0     0        0      0    0      0"
      ]
     },
     "execution_count": 13,
     "metadata": {},
     "output_type": "execute_result"
    }
   ],
   "source": [
    "winner_matrix = get_winner_matrix(path_strengths)\n",
    "winner_matrix"
   ]
  },
  {
   "cell_type": "markdown",
   "id": "192920d1-8151-4346-a7bd-42f8761868bb",
   "metadata": {},
   "source": [
    "## Overall Schultze Ranking\n",
    "In this example, using the Test4 data, Bill and Sandy are tied for last place."
   ]
  },
  {
   "cell_type": "code",
   "execution_count": 14,
   "id": "bdcd6558-8e9d-4eb4-b28b-d53fb6d310d9",
   "metadata": {},
   "outputs": [
    {
     "data": {
      "text/plain": [
       "Jenny      5\n",
       "Betty      4\n",
       "Kim        3\n",
       "Darlene    2\n",
       "Bill       0\n",
       "Sandy      0\n",
       "dtype: int64"
      ]
     },
     "execution_count": 14,
     "metadata": {},
     "output_type": "execute_result"
    }
   ],
   "source": [
    "final_ranking = pd.Series(np.sum(winner_matrix.values, axis=1), index=candidates).sort_values(ascending=False)\n",
    "final_ranking"
   ]
  }
 ],
 "metadata": {
  "kernelspec": {
   "display_name": "users-pangeo",
   "language": "python",
   "name": "conda-env-users-pangeo-py"
  },
  "language_info": {
   "codemirror_mode": {
    "name": "ipython",
    "version": 3
   },
   "file_extension": ".py",
   "mimetype": "text/x-python",
   "name": "python",
   "nbconvert_exporter": "python",
   "pygments_lexer": "ipython3",
   "version": "3.9.13"
  }
 },
 "nbformat": 4,
 "nbformat_minor": 5
}
