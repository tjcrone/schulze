{
 "cells": [
  {
   "cell_type": "markdown",
   "id": "b07ebcc2-ed91-41d2-a831-30eb931a0876",
   "metadata": {},
   "source": [
    "# Schultze's Method of Voting\n",
    "This notebook implements Schultze's method of voting "
   ]
  },
  {
   "cell_type": "code",
   "execution_count": null,
   "id": "9b13f64d-54b9-4911-96c7-8ccad10e3cdb",
   "metadata": {},
   "outputs": [],
   "source": [
    "import numpy as np\n",
    "import pandas as pd"
   ]
  },
  {
   "cell_type": "markdown",
   "id": "beb40093-37f7-4763-ae0a-5d09e3f743fa",
   "metadata": {},
   "source": [
    "## Test Data\n",
    "Test data from a published Google sheet."
   ]
  },
  {
   "cell_type": "code",
   "execution_count": null,
   "id": "75cb5a0c-e68e-4d28-a4ab-ee627ea76974",
   "metadata": {},
   "outputs": [],
   "source": [
    "test1 = 'https://docs.google.com/spreadsheets/d/e/2PACX-1vRGPvxWcqyo86JDfGhCn9laHlLHUrMEb8jAqdBFNN_uimR95VxE9JCPpBxr4WWaeLeAPuLHCzGDbQ8y/pub?gid=1591363425&single=true&output=csv'\n",
    "test2 = 'https://docs.google.com/spreadsheets/d/e/2PACX-1vRGPvxWcqyo86JDfGhCn9laHlLHUrMEb8jAqdBFNN_uimR95VxE9JCPpBxr4WWaeLeAPuLHCzGDbQ8y/pub?gid=541601874&single=true&output=csv'\n",
    "test3 = 'https://docs.google.com/spreadsheets/d/e/2PACX-1vRGPvxWcqyo86JDfGhCn9laHlLHUrMEb8jAqdBFNN_uimR95VxE9JCPpBxr4WWaeLeAPuLHCzGDbQ8y/pub?gid=2108916501&single=true&output=csv'\n",
    "test4 = 'https://docs.google.com/spreadsheets/d/e/2PACX-1vRGPvxWcqyo86JDfGhCn9laHlLHUrMEb8jAqdBFNN_uimR95VxE9JCPpBxr4WWaeLeAPuLHCzGDbQ8y/pub?gid=662509174&single=true&output=csv'\n",
    "example1 = 'https://docs.google.com/spreadsheets/d/e/2PACX-1vRGPvxWcqyo86JDfGhCn9laHlLHUrMEb8jAqdBFNN_uimR95VxE9JCPpBxr4WWaeLeAPuLHCzGDbQ8y/pub?gid=721130038&single=true&output=csv'\n",
    "example2 = 'https://docs.google.com/spreadsheets/d/e/2PACX-1vRGPvxWcqyo86JDfGhCn9laHlLHUrMEb8jAqdBFNN_uimR95VxE9JCPpBxr4WWaeLeAPuLHCzGDbQ8y/pub?gid=1181234950&single=true&output=csv'\n",
    "example3 = 'https://docs.google.com/spreadsheets/d/e/2PACX-1vRGPvxWcqyo86JDfGhCn9laHlLHUrMEb8jAqdBFNN_uimR95VxE9JCPpBxr4WWaeLeAPuLHCzGDbQ8y/pub?gid=1865810740&single=true&output=csv'\n",
    "example4 = 'https://docs.google.com/spreadsheets/d/e/2PACX-1vRGPvxWcqyo86JDfGhCn9laHlLHUrMEb8jAqdBFNN_uimR95VxE9JCPpBxr4WWaeLeAPuLHCzGDbQ8y/pub?gid=920600198&single=true&output=csv'\n",
    "example6 = 'https://docs.google.com/spreadsheets/d/e/2PACX-1vRGPvxWcqyo86JDfGhCn9laHlLHUrMEb8jAqdBFNN_uimR95VxE9JCPpBxr4WWaeLeAPuLHCzGDbQ8y/pub?gid=753260081&single=true&output=csv'\n",
    "example7 = 'https://docs.google.com/spreadsheets/d/e/2PACX-1vRGPvxWcqyo86JDfGhCn9laHlLHUrMEb8jAqdBFNN_uimR95VxE9JCPpBxr4WWaeLeAPuLHCzGDbQ8y/pub?gid=959087225&single=true&output=csv'"
   ]
  },
  {
   "cell_type": "code",
   "execution_count": null,
   "id": "0f6a1270-a5ea-407e-832e-fcd6c9363741",
   "metadata": {},
   "outputs": [],
   "source": [
    "def import_votes(url, first_row='voters'):\n",
    "    if first_row=='voters':\n",
    "        votes = pd.read_csv(url)\n",
    "        #votes.columns = [(f'B{n:02d}') for n in range(votes.shape[1])]\n",
    "    elif first_row=='count':\n",
    "        vote_counts = pd.read_csv(url, header=None)\n",
    "        votes = np.tile(vote_counts.iloc[1:,0].values, [np.int64(vote_counts.iloc[0,0]),1])\n",
    "        if vote_counts.shape[1]>1:\n",
    "            for i in np.arange(1,vote_counts.shape[1]):\n",
    "                votes = np.append(votes, np.tile(vote_counts.iloc[1:,i].values, [np.int64(vote_counts.iloc[0,i]),1]), axis=0)\n",
    "        votes = pd.DataFrame(votes.T)\n",
    "    else:\n",
    "        raise ValueError('Pass voters or count as first_row.')\n",
    "    return votes"
   ]
  },
  {
   "cell_type": "code",
   "execution_count": null,
   "id": "d2bfb8c4-d8cd-4f55-9494-1ca9b213f2c1",
   "metadata": {},
   "outputs": [],
   "source": [
    "votes = import_votes(example7, first_row='count')\n",
    "votes"
   ]
  },
  {
   "cell_type": "code",
   "execution_count": null,
   "id": "5533b250-6ab1-475a-b339-28fb151e457e",
   "metadata": {},
   "outputs": [],
   "source": [
    "candidates = np.unique(votes.values.reshape(votes.shape[0]*votes.shape[1]))\n",
    "candidates"
   ]
  },
  {
   "cell_type": "code",
   "execution_count": null,
   "id": "9f91b94d-61b9-4b16-8dc7-5d2e0fa11aee",
   "metadata": {},
   "outputs": [],
   "source": [
    "len(candidates)"
   ]
  },
  {
   "cell_type": "markdown",
   "id": "9f7bfe7f-e42d-4c27-8951-1baab92bbecf",
   "metadata": {},
   "source": [
    "** randomize the candidate list here ?? **"
   ]
  },
  {
   "cell_type": "markdown",
   "id": "8e27c46a-2a04-4619-bed7-e660b46fd540",
   "metadata": {},
   "source": [
    "## Preference Matrix\n",
    "The preference matrix is the number of ballots that have candidate A over candidate B."
   ]
  },
  {
   "cell_type": "code",
   "execution_count": null,
   "id": "ecf059ff-61bf-41bc-85b9-084f613be2de",
   "metadata": {},
   "outputs": [],
   "source": [
    "def get_pref_count(votes, candidate_a, candidate_b):\n",
    "    count = 0\n",
    "    for i in range(votes.shape[1]):\n",
    "        try:\n",
    "            apos = votes.iloc[:,i][votes.iloc[:,i]==candidate_a].index.values[0]\n",
    "        except:\n",
    "            apos = None\n",
    "        try:\n",
    "            bpos = votes.iloc[:,i][votes.iloc[:,i]==candidate_b].index.values[0]\n",
    "        except:\n",
    "            bpos = None\n",
    "            \n",
    "        if apos == None:\n",
    "            continue\n",
    "        if bpos == None:\n",
    "            if apos != None:\n",
    "                count += 1\n",
    "                continue\n",
    "        if apos < bpos:\n",
    "            count +=1\n",
    "    return count"
   ]
  },
  {
   "cell_type": "code",
   "execution_count": null,
   "id": "5dc4d69b-8157-4849-a77d-f32e444bd1a7",
   "metadata": {},
   "outputs": [],
   "source": [
    "def get_pref_matrix(votes):\n",
    "    candidates = np.unique(votes.values.reshape(votes.shape[0]*votes.shape[1]))\n",
    "    pref_vals = np.zeros([len(candidates), len(candidates)], dtype=np.int64)\n",
    "    i = 0\n",
    "    j = 0\n",
    "    for candidate_a in candidates:\n",
    "        for candidate_b in candidates:\n",
    "            pref_vals[i,j] = get_pref_count(votes, candidate_a, candidate_b)\n",
    "            j += 1\n",
    "        i += 1\n",
    "        j = 0\n",
    "    return pd.DataFrame(pref_vals, columns=candidates, index=pd.Index(candidates))"
   ]
  },
  {
   "cell_type": "code",
   "execution_count": null,
   "id": "ebc83ef7-de9a-44a2-bdb0-3063e3312ff6",
   "metadata": {},
   "outputs": [],
   "source": [
    "pref_matrix = get_pref_matrix(votes)\n",
    "pref_matrix"
   ]
  },
  {
   "cell_type": "markdown",
   "id": "3d830348-0bbc-409d-ba5a-aa8a2771f275",
   "metadata": {},
   "source": [
    "## Path Strengths"
   ]
  },
  {
   "cell_type": "code",
   "execution_count": null,
   "id": "1d11b330-f158-4198-8e9f-c55b579627a9",
   "metadata": {},
   "outputs": [],
   "source": [
    "pref_vals = pref_matrix.values\n",
    "p = pref_vals * 0\n",
    "for i in range(len(candidates)):\n",
    "    for j in range(len(candidates)):\n",
    "        if pref_vals[i,j] > pref_vals[j,i]:\n",
    "            p[i,j] = pref_vals[i,j]\n",
    "\n",
    "for i in range(len(candidates)):\n",
    "    for j in range(len(candidates)):\n",
    "        if i != j:\n",
    "            for k in range(len(candidates)):\n",
    "                if i != j and j != k:\n",
    "                    p[j,k] = np.max([p[j,k], min([p[j,i], p[i,k]])])"
   ]
  },
  {
   "cell_type": "code",
   "execution_count": null,
   "id": "242f9970-b644-4279-95a4-5ea8efb53c72",
   "metadata": {},
   "outputs": [],
   "source": [
    "p"
   ]
  },
  {
   "cell_type": "markdown",
   "id": "3d02cdce-dfd9-4a6e-9409-653166d81569",
   "metadata": {},
   "source": [
    "## Schultze Winner Matrix"
   ]
  },
  {
   "cell_type": "code",
   "execution_count": null,
   "id": "9abfcf2f-43cf-445a-ac42-9b0432e05ad7",
   "metadata": {},
   "outputs": [],
   "source": [
    "winner = p*0\n",
    "for i in range(len(candidates)):\n",
    "    for j in range(len(candidates)):\n",
    "        if i != j:\n",
    "            if p[i,j] > p[j,i]:\n",
    "                winner[i,j] = 1"
   ]
  },
  {
   "cell_type": "code",
   "execution_count": null,
   "id": "99954c38-b443-43ee-9556-4a33fbb44a6b",
   "metadata": {},
   "outputs": [],
   "source": [
    "winner"
   ]
  },
  {
   "cell_type": "markdown",
   "id": "192920d1-8151-4346-a7bd-42f8761868bb",
   "metadata": {},
   "source": [
    "## Overall Schultze Ranking"
   ]
  },
  {
   "cell_type": "code",
   "execution_count": null,
   "id": "bdcd6558-8e9d-4eb4-b28b-d53fb6d310d9",
   "metadata": {},
   "outputs": [],
   "source": [
    "ranking = pd.Series(np.sum(winner, axis=1), index=candidates).sort_values(ascending=False)"
   ]
  },
  {
   "cell_type": "code",
   "execution_count": null,
   "id": "d981a812-00d2-4b7e-a635-00f71400cda4",
   "metadata": {},
   "outputs": [],
   "source": [
    "ranking"
   ]
  }
 ],
 "metadata": {
  "kernelspec": {
   "display_name": "users-pangeo",
   "language": "python",
   "name": "conda-env-users-pangeo-py"
  },
  "language_info": {
   "codemirror_mode": {
    "name": "ipython",
    "version": 3
   },
   "file_extension": ".py",
   "mimetype": "text/x-python",
   "name": "python",
   "nbconvert_exporter": "python",
   "pygments_lexer": "ipython3",
   "version": "3.9.13"
  }
 },
 "nbformat": 4,
 "nbformat_minor": 5
}
